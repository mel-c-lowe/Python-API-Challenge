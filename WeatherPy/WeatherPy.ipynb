{
 "cells": [
  {
   "cell_type": "code",
   "execution_count": 109,
   "metadata": {},
   "outputs": [],
   "source": [
    "# Import dependencies\n",
    "import pandas as pd\n",
    "import matplotlib.pyplot as plt\n",
    "import numpy as np\n",
    "import requests\n",
    "import time\n",
    "from scipy.stats import linregress\n",
    "\n",
    "\n",
    "# Import keys\n",
    "from config import w_api_key\n",
    "from config import gkey\n",
    "\n",
    "# Import citipy module\n",
    "# Be sure to be in PythonData where this installed to have this work\n",
    "from citipy import citipy\n",
    "\n",
    "# Output file\n",
    "output_data_file = \"output_data/cities.csv\"\n",
    "\n",
    "# Set range of latitudes and longitudes\n",
    "lat_range = (-90, 90)\n",
    "lng_range = (-180, 180)\n"
   ]
  },
  {
   "cell_type": "code",
   "execution_count": 40,
   "metadata": {},
   "outputs": [
    {
     "data": {
      "text/plain": [
       "5"
      ]
     },
     "execution_count": 40,
     "metadata": {},
     "output_type": "execute_result"
    }
   ],
   "source": [
    "# List for holding lat_lngs and cities\n",
    "coordinates = []\n",
    "cities = []\n",
    "\n",
    "# Create a set of random lat and lng combinations\n",
    "lats = np.random.uniform(lat_range[0], lat_range[1], size=5)\n",
    "lngs = np.random.uniform(lng_range[0], lng_range[1], size=5)\n",
    "coordinates = zip(lats, lngs)\n",
    "\n",
    "# Identify nearest city for each lat, lng combination\n",
    "for coord in coordinates:\n",
    "    city = citipy.nearest_city(coord[0], coord[1]).city_name\n",
    "    \n",
    "    # If the city is unique, then add it to a our cities list\n",
    "    if city not in cities:\n",
    "        cities.append(city)\n",
    "\n",
    "# Print the city count to confirm sufficient count\n",
    "len(cities)"
   ]
  },
  {
   "cell_type": "code",
   "execution_count": 41,
   "metadata": {},
   "outputs": [
    {
     "data": {
      "text/plain": [
       "['camacha', 'hilo', 'erdaojiang', 'maymyo', 'puerto ayora']"
      ]
     },
     "execution_count": 41,
     "metadata": {},
     "output_type": "execute_result"
    }
   ],
   "source": [
    "cities"
   ]
  },
  {
   "cell_type": "code",
   "execution_count": 96,
   "metadata": {},
   "outputs": [],
   "source": [
    "# Save config information\n",
    "url = \"http://api.openweathermap.org/data/2.5/weather?\"\n",
    "city = cities[2]\n",
    "\n",
    "\n",
    "# Build query URL\n",
    "query_url = url + \"appid=\" + w_api_key + \"&q=\" + city\n",
    "\n",
    "# Hooray!  I'm talking to the data source and my call is working."
   ]
  },
  {
   "cell_type": "code",
   "execution_count": 97,
   "metadata": {},
   "outputs": [
    {
     "data": {
      "text/plain": [
       "75"
      ]
     },
     "execution_count": 97,
     "metadata": {},
     "output_type": "execute_result"
    }
   ],
   "source": [
    "# Ok how am I getting information out of the json/results?\n",
    "city_data_test = requests.get(query_url).json()\n",
    "city_data_test[\"clouds\"][\"all\"]"
   ]
  },
  {
   "cell_type": "code",
   "execution_count": 67,
   "metadata": {},
   "outputs": [
    {
     "data": {
      "text/html": [
       "<div>\n",
       "<style scoped>\n",
       "    .dataframe tbody tr th:only-of-type {\n",
       "        vertical-align: middle;\n",
       "    }\n",
       "\n",
       "    .dataframe tbody tr th {\n",
       "        vertical-align: top;\n",
       "    }\n",
       "\n",
       "    .dataframe thead th {\n",
       "        text-align: right;\n",
       "    }\n",
       "</style>\n",
       "<table border=\"1\" class=\"dataframe\">\n",
       "  <thead>\n",
       "    <tr style=\"text-align: right;\">\n",
       "      <th></th>\n",
       "      <th>City</th>\n",
       "      <th>Lat</th>\n",
       "      <th>Long</th>\n",
       "      <th>Max Temp</th>\n",
       "      <th>Humidity</th>\n",
       "      <th>Cloudiness</th>\n",
       "      <th>Wind Speed</th>\n",
       "      <th>Country</th>\n",
       "      <th>Date</th>\n",
       "    </tr>\n",
       "  </thead>\n",
       "  <tbody>\n",
       "    <tr>\n",
       "      <th>0</th>\n",
       "      <td>camacha</td>\n",
       "      <td></td>\n",
       "      <td></td>\n",
       "      <td></td>\n",
       "      <td></td>\n",
       "      <td></td>\n",
       "      <td></td>\n",
       "      <td></td>\n",
       "      <td></td>\n",
       "    </tr>\n",
       "    <tr>\n",
       "      <th>1</th>\n",
       "      <td>hilo</td>\n",
       "      <td></td>\n",
       "      <td></td>\n",
       "      <td></td>\n",
       "      <td></td>\n",
       "      <td></td>\n",
       "      <td></td>\n",
       "      <td></td>\n",
       "      <td></td>\n",
       "    </tr>\n",
       "    <tr>\n",
       "      <th>2</th>\n",
       "      <td>erdaojiang</td>\n",
       "      <td></td>\n",
       "      <td></td>\n",
       "      <td></td>\n",
       "      <td></td>\n",
       "      <td></td>\n",
       "      <td></td>\n",
       "      <td></td>\n",
       "      <td></td>\n",
       "    </tr>\n",
       "    <tr>\n",
       "      <th>3</th>\n",
       "      <td>maymyo</td>\n",
       "      <td></td>\n",
       "      <td></td>\n",
       "      <td></td>\n",
       "      <td></td>\n",
       "      <td></td>\n",
       "      <td></td>\n",
       "      <td></td>\n",
       "      <td></td>\n",
       "    </tr>\n",
       "    <tr>\n",
       "      <th>4</th>\n",
       "      <td>puerto ayora</td>\n",
       "      <td></td>\n",
       "      <td></td>\n",
       "      <td></td>\n",
       "      <td></td>\n",
       "      <td></td>\n",
       "      <td></td>\n",
       "      <td></td>\n",
       "      <td></td>\n",
       "    </tr>\n",
       "  </tbody>\n",
       "</table>\n",
       "</div>"
      ],
      "text/plain": [
       "           City Lat Long Max Temp Humidity Cloudiness Wind Speed Country Date\n",
       "0       camacha                                                              \n",
       "1          hilo                                                              \n",
       "2    erdaojiang                                                              \n",
       "3        maymyo                                                              \n",
       "4  puerto ayora                                                              "
      ]
     },
     "execution_count": 67,
     "metadata": {},
     "output_type": "execute_result"
    }
   ],
   "source": [
    "# Set up dataframe to hold data from Open Weather\n",
    "\n",
    "weather_data = pd.DataFrame({\n",
    "    \"City\": cities\n",
    "})\n",
    "\n",
    "# Add empty columns to fill\n",
    "weather_data[\"Lat\"] = \"\"\n",
    "weather_data[\"Long\"] = \"\"\n",
    "weather_data[\"Max Temp\"] = \"\"\n",
    "weather_data[\"Humidity\"] = \"\"\n",
    "weather_data[\"Cloudiness\"] = \"\"\n",
    "weather_data[\"Wind Speed\"] = \"\"\n",
    "weather_data[\"Country\"] = \"\"\n",
    "weather_data[\"Date\"] = \"\"\n",
    "\n",
    "weather_data"
   ]
  },
  {
   "cell_type": "code",
   "execution_count": 98,
   "metadata": {},
   "outputs": [
    {
     "name": "stdout",
     "output_type": "stream",
     "text": [
      "Retrieving data for 0: camacha.\n",
      "33.0833\n",
      "Proof of entry into try block\n",
      "Retrieving data for 1: hilo.\n",
      "19.7297\n",
      "Proof of entry into try block\n",
      "Retrieving data for 2: erdaojiang.\n",
      "41.7764\n",
      "Proof of entry into try block\n",
      "Retrieving data for 3: maymyo.\n",
      "22.0333\n",
      "Proof of entry into try block\n",
      "Retrieving data for 4: puerto ayora.\n",
      "-0.7393\n",
      "Proof of entry into try block\n"
     ]
    }
   ],
   "source": [
    "# Set up a for loop to go through the weather_data dataframe\n",
    "# to look for data for each city\n",
    "# params = {degrees = farenheit}\n",
    "\n",
    "base_url = url + \"appid=\" + w_api_key + \"&q=\" \n",
    "\n",
    "for index, row in weather_data.iterrows():\n",
    "    \n",
    "    # Get the city name from the df\n",
    "    name = row[\"City\"]\n",
    "    \n",
    "    # Add city to url\n",
    "    print(f\"Retrieving data for {index}: {name}.\")\n",
    "    response = requests.get(base_url + name).json()\n",
    "    \n",
    "#     print(response)\n",
    "    \n",
    "    # Extract data\n",
    "    results = response\n",
    "    print(results[\"coord\"][\"lat\"])\n",
    "    \n",
    "    try:\n",
    "        print(\"Proof of entry into try block\")\n",
    "        weather_data.loc[index, \"Lat\"] = results[\"coord\"][\"lat\"]\n",
    "        weather_data.loc[index, \"Long\"] = results[\"coord\"][\"lon\"]\n",
    "        weather_data.loc[index, \"Max Temp\"] = results[\"main\"][\"temp_max\"]\n",
    "        weather_data.loc[index, \"Humidity\"] = results[\"main\"][\"humidity\"]\n",
    "        weather_data.loc[index, \"Cloudiness\"] = results[\"clouds\"][\"all\"]\n",
    "        weather_data.loc[index, \"Wind Speed\"] = results[\"wind\"][\"speed\"]\n",
    "        weather_data.loc[index, \"Country\"] = results[\"sys\"][\"country\"]\n",
    "        weather_data.loc[index, \"Date\"] = results[\"dt\"]\n",
    "        \n",
    "    except:\n",
    "        pass\n"
   ]
  },
  {
   "cell_type": "code",
   "execution_count": 99,
   "metadata": {},
   "outputs": [
    {
     "data": {
      "text/html": [
       "<div>\n",
       "<style scoped>\n",
       "    .dataframe tbody tr th:only-of-type {\n",
       "        vertical-align: middle;\n",
       "    }\n",
       "\n",
       "    .dataframe tbody tr th {\n",
       "        vertical-align: top;\n",
       "    }\n",
       "\n",
       "    .dataframe thead th {\n",
       "        text-align: right;\n",
       "    }\n",
       "</style>\n",
       "<table border=\"1\" class=\"dataframe\">\n",
       "  <thead>\n",
       "    <tr style=\"text-align: right;\">\n",
       "      <th></th>\n",
       "      <th>City</th>\n",
       "      <th>Lat</th>\n",
       "      <th>Long</th>\n",
       "      <th>Max Temp</th>\n",
       "      <th>Humidity</th>\n",
       "      <th>Cloudiness</th>\n",
       "      <th>Wind Speed</th>\n",
       "      <th>Country</th>\n",
       "      <th>Date</th>\n",
       "    </tr>\n",
       "  </thead>\n",
       "  <tbody>\n",
       "    <tr>\n",
       "      <th>0</th>\n",
       "      <td>camacha</td>\n",
       "      <td>33.0833</td>\n",
       "      <td>-16.3333</td>\n",
       "      <td>289.15</td>\n",
       "      <td>88</td>\n",
       "      <td>75</td>\n",
       "      <td>6.69</td>\n",
       "      <td>PT</td>\n",
       "      <td>1612752909</td>\n",
       "    </tr>\n",
       "    <tr>\n",
       "      <th>1</th>\n",
       "      <td>hilo</td>\n",
       "      <td>19.7297</td>\n",
       "      <td>-155.09</td>\n",
       "      <td>298.15</td>\n",
       "      <td>61</td>\n",
       "      <td>75</td>\n",
       "      <td>3.6</td>\n",
       "      <td>US</td>\n",
       "      <td>1612752909</td>\n",
       "    </tr>\n",
       "    <tr>\n",
       "      <th>2</th>\n",
       "      <td>erdaojiang</td>\n",
       "      <td>41.7764</td>\n",
       "      <td>126.032</td>\n",
       "      <td>261.54</td>\n",
       "      <td>87</td>\n",
       "      <td>95</td>\n",
       "      <td>1.86</td>\n",
       "      <td>CN</td>\n",
       "      <td>1612752664</td>\n",
       "    </tr>\n",
       "    <tr>\n",
       "      <th>3</th>\n",
       "      <td>maymyo</td>\n",
       "      <td>22.0333</td>\n",
       "      <td>96.4667</td>\n",
       "      <td>293.15</td>\n",
       "      <td>64</td>\n",
       "      <td>40</td>\n",
       "      <td>1.03</td>\n",
       "      <td>MM</td>\n",
       "      <td>1612752909</td>\n",
       "    </tr>\n",
       "    <tr>\n",
       "      <th>4</th>\n",
       "      <td>puerto ayora</td>\n",
       "      <td>-0.7393</td>\n",
       "      <td>-90.3518</td>\n",
       "      <td>297.59</td>\n",
       "      <td>95</td>\n",
       "      <td>99</td>\n",
       "      <td>2.58</td>\n",
       "      <td>EC</td>\n",
       "      <td>1612752909</td>\n",
       "    </tr>\n",
       "  </tbody>\n",
       "</table>\n",
       "</div>"
      ],
      "text/plain": [
       "           City      Lat     Long Max Temp Humidity Cloudiness Wind Speed  \\\n",
       "0       camacha  33.0833 -16.3333   289.15       88         75       6.69   \n",
       "1          hilo  19.7297  -155.09   298.15       61         75        3.6   \n",
       "2    erdaojiang  41.7764  126.032   261.54       87         95       1.86   \n",
       "3        maymyo  22.0333  96.4667   293.15       64         40       1.03   \n",
       "4  puerto ayora  -0.7393 -90.3518   297.59       95         99       2.58   \n",
       "\n",
       "  Country        Date  \n",
       "0      PT  1612752909  \n",
       "1      US  1612752909  \n",
       "2      CN  1612752664  \n",
       "3      MM  1612752909  \n",
       "4      EC  1612752909  "
      ]
     },
     "execution_count": 99,
     "metadata": {},
     "output_type": "execute_result"
    }
   ],
   "source": [
    "weather_data"
   ]
  },
  {
   "cell_type": "code",
   "execution_count": 103,
   "metadata": {},
   "outputs": [],
   "source": [
    "# Export weather_data to csv\n",
    "# This file is a place holder for proof of concept.\n",
    "# Update with full data set later\n",
    "\n",
    "weather_data.to_csv(\"Working_data.csv\", index=False)"
   ]
  },
  {
   "cell_type": "code",
   "execution_count": null,
   "metadata": {},
   "outputs": [],
   "source": [
    "# Make a heck ton of scatter plots"
   ]
  },
  {
   "cell_type": "code",
   "execution_count": 123,
   "metadata": {},
   "outputs": [
    {
     "data": {
      "image/png": "[encoded data removed]",
      "text/plain": [
       "<Figure size 432x288 with 1 Axes>"
      ]
     },
     "metadata": {
      "needs_background": "light"
     },
     "output_type": "display_data"
    }
   ],
   "source": [
    "# Temperature vs Latitude\n",
    "x = weather_data[\"Lat\"]\n",
    "temp_y = weather_data[\"Max Temp\"]\n",
    "\n",
    "plt.plot (x, temp_y, \"bo\")\n",
    "plt.ylabel(\"Maximum Temperature\")\n",
    "plt.title(\"City Temperature by Latitude\")\n",
    "plt.show()\n",
    "\n",
    "# Why won't my plt.xlabel work????"
   ]
  },
  {
   "cell_type": "code",
   "execution_count": 127,
   "metadata": {},
   "outputs": [
    {
     "data": {
      "image/png": "[encoded data removed]",
      "text/plain": [
       "<Figure size 432x288 with 1 Axes>"
      ]
     },
     "metadata": {
      "needs_background": "light"
     },
     "output_type": "display_data"
    }
   ],
   "source": [
    "# Humidity vs Latitude\n",
    "humid_y = weather_data[\"Humidity\"]\n",
    "\n",
    "plt.plot(x, humid_y, \"bo\")\n",
    "plt.ylabel(\"Humidity\")\n",
    "# plt.xlabel(\"Latitude\")\n",
    "plt.title(\"Citiy Humidity by Latitude\")\n",
    "plt.show()"
   ]
  },
  {
   "cell_type": "code",
   "execution_count": 128,
   "metadata": {},
   "outputs": [
    {
     "data": {
      "image/png": "[encoded data removed]",
      "text/plain": [
       "<Figure size 432x288 with 1 Axes>"
      ]
     },
     "metadata": {
      "needs_background": "light"
     },
     "output_type": "display_data"
    }
   ],
   "source": [
    "# Cloudiness vs Latitude\n",
    "cloud_y = weather_data[\"Cloudiness\"]\n",
    "\n",
    "plt.plot(x, cloud_y, \"bo\")\n",
    "plt.ylabel(\"Cloudiness percent\")\n",
    "plt.title(\"City Cloudiness by Latitude\")\n",
    "plt.show()"
   ]
  },
  {
   "cell_type": "code",
   "execution_count": 130,
   "metadata": {},
   "outputs": [
    {
     "data": {
      "image/png": "[encoded data removed]",
      "text/plain": [
       "<Figure size 432x288 with 1 Axes>"
      ]
     },
     "metadata": {
      "needs_background": "light"
     },
     "output_type": "display_data"
    }
   ],
   "source": [
    "# Wind Speed by Latitude\n",
    "wind_y = weather_data[\"Wind Speed\"]\n",
    "\n",
    "plt.plot(x, wind_y, \"bo\")\n",
    "plt.ylabel(\"Wind Speed mph\")\n",
    "plt.title(\"City Wind Speed by Latitude\")\n",
    "plt.show()"
   ]
  },
  {
   "cell_type": "code",
   "execution_count": null,
   "metadata": {},
   "outputs": [],
   "source": []
  }
 ],
 "metadata": {
  "kernelspec": {
   "display_name": "Python 3",
   "language": "python",
   "name": "python3"
  },
  "language_info": {
   "codemirror_mode": {
    "name": "ipython",
    "version": 3
   },
   "file_extension": ".py",
   "mimetype": "text/x-python",
   "name": "python",
   "nbconvert_exporter": "python",
   "pygments_lexer": "ipython3",
   "version": "3.6.10"
  }
 },
 "nbformat": 4,
 "nbformat_minor": 4
}
